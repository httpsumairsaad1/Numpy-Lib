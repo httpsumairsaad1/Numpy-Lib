{
 "cells": [
  {
   "cell_type": "code",
   "execution_count": 5,
   "id": "9a0dd6ba-4b44-444b-9792-18539dd2715a",
   "metadata": {},
   "outputs": [
    {
     "name": "stdout",
     "output_type": "stream",
     "text": [
      "LIST:  [30, 40, 50, 5, 5, 3]\n",
      "ARRAY:  [1 2 3 5 5 3]\n"
     ]
    }
   ],
   "source": [
    "a = [30, 40, 50]\n",
    "b = [5, 5, 3]\n",
    "print(\"LIST: \", a+b) #List\n",
    "\n",
    "import numpy as np\n",
    "arr1 = np.array([1,2,3])\n",
    "arr2 = np.array([5,5,3])\n",
    "print(\"ARRAY: \", np.concatenate([arr1, arr2]))"
   ]
  },
  {
   "cell_type": "code",
   "execution_count": 19,
   "id": "5bf58c3b-e88e-4365-96ae-45ab9e93143a",
   "metadata": {},
   "outputs": [
    {
     "name": "stdout",
     "output_type": "stream",
     "text": [
      "Axis=0: \n",
      " [[30 40]\n",
      " [50 10]\n",
      " [ 5  5]\n",
      " [ 3  3]]\n",
      "Axis=1: \n",
      " [[30 40  5  5]\n",
      " [50 10  3  3]]\n"
     ]
    }
   ],
   "source": [
    "#Concatenate\n",
    "# Axis0 & Axis1\n",
    "import numpy as np\n",
    "arr1 = np.array([[30,40], [50,10]])\n",
    "arr2 = np.array([[5,5], [3,3]])\n",
    "print(\"Axis=0: \\n\", np.concatenate([arr1, arr2], axis=0))\n",
    "print(\"Axis=1: \\n\", np.concatenate([arr1, arr2], axis=1))\n"
   ]
  },
  {
   "cell_type": "code",
   "execution_count": null,
   "id": "1872526b-23b7-487f-95f1-0f41ef74460b",
   "metadata": {},
   "outputs": [],
   "source": []
  }
 ],
 "metadata": {
  "kernelspec": {
   "display_name": "Python 3 (ipykernel)",
   "language": "python",
   "name": "python3"
  },
  "language_info": {
   "codemirror_mode": {
    "name": "ipython",
    "version": 3
   },
   "file_extension": ".py",
   "mimetype": "text/x-python",
   "name": "python",
   "nbconvert_exporter": "python",
   "pygments_lexer": "ipython3",
   "version": "3.12.4"
  }
 },
 "nbformat": 4,
 "nbformat_minor": 5
}
