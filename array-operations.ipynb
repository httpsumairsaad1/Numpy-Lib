{
 "cells": [
  {
   "cell_type": "code",
   "execution_count": 3,
   "id": "02124ec5-7681-4849-8dc6-99fc27973562",
   "metadata": {},
   "outputs": [
    {
     "name": "stdout",
     "output_type": "stream",
     "text": [
      "[[ 1  2  3  4]\n",
      " [ 5  6  7  8]\n",
      " [ 9 10 11 12]]\n",
      "<class 'numpy.ndarray'>\n"
     ]
    }
   ],
   "source": [
    "import numpy as np\n",
    "arr = np.array([[1,2,3,4],[5,6,7,8],[9,10,11,12]]) # matrix\n",
    "print(arr)\n",
    "print(type(arr))"
   ]
  },
  {
   "cell_type": "code",
   "execution_count": 61,
   "id": "bb89fdd0-ff38-4e24-b3b9-9716cfdcc4b8",
   "metadata": {},
   "outputs": [
    {
     "name": "stdout",
     "output_type": "stream",
     "text": [
      "================\n",
      " [[ 1  2  3  4]\n",
      " [ 5  6  7  8]\n",
      " [ 9 10 11 12]]\n",
      "================\n",
      " [5 6 7 8]\n",
      "================\n",
      " [1 2 3 4]\n",
      "================\n",
      " [ 9 10 11 12]\n",
      "================\n",
      " [ 3  7 11]\n",
      "================\n",
      " [[1 2 3]]\n",
      "================\n",
      " [[2 3]\n",
      " [6 7]]\n",
      "================\n",
      " [[ 1  3]\n",
      " [ 5  7]\n",
      " [ 9 11]]\n",
      "================\n",
      " [[ 1  2  3  4]\n",
      " [ 9 10 11 12]]\n"
     ]
    }
   ],
   "source": [
    "#slicing\n",
    "\n",
    "arr = np.array([[1,2,3,4],[5,6,7,8],[9,10,11,12]]) # matrix\n",
    "print(\"================\\n\", arr)\n",
    "\n",
    "# Example: Extract the second row\n",
    "row_2 = arr[1, :]\n",
    "print(\"================\\n\", row_2)\n",
    "\n",
    "row_1 = arr[0, :]\n",
    "print(\"================\\n\", row_1)\n",
    "\n",
    "row_3 = arr[2, :]\n",
    "print(\"================\\n\", row_3)\n",
    "\n",
    "col_3 = arr[:, 2]\n",
    "print(\"================\\n\", col_3)\n",
    "\n",
    "submatrix = arr[0:1, 0:3]\n",
    "print(\"================\\n\", submatrix)\n",
    "\n",
    "range_elements = arr[0:2, 1:3] # R, C\n",
    "print(\"================\\n\", range_elements)\n",
    "\n",
    "# Example: Extract every second element from the array\n",
    "step_elements = arr[:, ::2]\n",
    "print(\"================\\n\", step_elements)\n",
    "\n",
    "# Example: Extract every second element from the array\n",
    "step_elements = arr[::2, :]\n",
    "print(\"================\\n\", step_elements)"
   ]
  },
  {
   "cell_type": "code",
   "execution_count": null,
   "id": "12027f1a-17df-48ad-b74c-6f42b6e8d76d",
   "metadata": {},
   "outputs": [],
   "source": []
  }
 ],
 "metadata": {
  "kernelspec": {
   "display_name": "Python 3 (ipykernel)",
   "language": "python",
   "name": "python3"
  },
  "language_info": {
   "codemirror_mode": {
    "name": "ipython",
    "version": 3
   },
   "file_extension": ".py",
   "mimetype": "text/x-python",
   "name": "python",
   "nbconvert_exporter": "python",
   "pygments_lexer": "ipython3",
   "version": "3.12.4"
  }
 },
 "nbformat": 4,
 "nbformat_minor": 5
}
